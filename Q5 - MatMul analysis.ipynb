{
 "cells": [
  {
   "cell_type": "markdown",
   "id": "e1291f5e",
   "metadata": {},
   "source": [
    "# Matrix Multiplication Analysis"
   ]
  },
  {
   "cell_type": "code",
   "execution_count": 105,
   "id": "1c3d9856",
   "metadata": {},
   "outputs": [],
   "source": [
    "from pprint import pprint\n",
    "\n",
    "filename = \"./sim_480/stats (q5).txt\"\n",
    "\n",
    "MATRIX_SIZE = 32\n",
    "\n",
    "with open(filename) as f:\n",
    "    lines = f.readlines()"
   ]
  },
  {
   "cell_type": "code",
   "execution_count": 55,
   "id": "66e41db7",
   "metadata": {},
   "outputs": [],
   "source": [
    "def find_lines(pattern: str) -> [str]:\n",
    "    result = []\n",
    "    for line in lines:\n",
    "        if pattern in line:\n",
    "            result.append(line)\n",
    "    return result\n",
    "\n",
    "def find_line(pattern: str) -> str:\n",
    "    for line in lines:\n",
    "        if pattern in line:\n",
    "            return line"
   ]
  },
  {
   "cell_type": "code",
   "execution_count": 122,
   "id": "86b9cf85",
   "metadata": {},
   "outputs": [],
   "source": [
    "# A) Clock Cycles\n",
    "clock_cycles = int(find_line(\"gpu_sim_cycle\").strip().split(\"=\")[1])\n",
    "\n",
    "# Execution time (sim_cycles/core_frequency)\n",
    "core_freq = float(find_line(\"gpgpu_clock_domains\").split()[1].split(\":\")[0]) * 1e6  # clock is in MHz\n",
    "execution_time = clock_cycles/core_freq\n"
   ]
  },
  {
   "cell_type": "code",
   "execution_count": 130,
   "id": "d64e2300",
   "metadata": {},
   "outputs": [],
   "source": [
    "# B) # Instructions\n",
    "time_sec = int(find_line(\"gpgpu_simulation_time\").split(\"(\")[1][:-1].split(\" \")[0])\n",
    "rate = int(find_line(\"gpgpu_simulation_rate\").split(\"=\")[1].strip().split(\" \")[0])\n",
    "instructions = rate * time_sec"
   ]
  },
  {
   "cell_type": "code",
   "execution_count": 131,
   "id": "b448396b",
   "metadata": {},
   "outputs": [],
   "source": [
    "# C) High IPC ?\n",
    "IPC = float(find_line(\"gpu_ipc\").strip().split(\"=\")[1].strip())"
   ]
  },
  {
   "cell_type": "code",
   "execution_count": 132,
   "id": "efb16947",
   "metadata": {
    "scrolled": false
   },
   "outputs": [],
   "source": [
    "# D) DRAM Bandwidth & L2 Cache Hit rate\n",
    "\n",
    "# Peak Off-chip DRAM Bandwidth (bit/s) = gpgpu_n_mem * gpgpu_n_mem_per_ctrlr * gpgpu_dram_buswidth * DRAM Clock * 2\n",
    "DRAM_Clock = float(find_line(\"gpgpu_clock_domains\").split()[1].split(\":\")[-1]) * 1e6  # clock is in MHz\n",
    "gpgpu_dram_buswidth = int(find_line(\"gpgpu_dram_buswidth\").split()[1])  # gpgpu_dram_buswidth is in bytes\n",
    "gpgpu_n_mem = int(find_line(\"gpgpu_n_mem\").split()[1])\n",
    "gpgpu_n_mem_per_ctrlr = int(find_line(\"gpgpu_n_mem_per_ctrlr\").split()[1])\n",
    "\n",
    "DRAM_peak_bandwidth = (gpgpu_n_mem * gpgpu_n_mem_per_ctrlr * gpgpu_dram_buswidth * DRAM_Clock * 2) / 1e9  # Bytes/s\n",
    "\n",
    "average_utilization = [float(ut.strip().split(\"=\")[-1]) for ut in find_lines(\"bw_util\")]\n",
    "average_utilization = sum(average_utilization) / len(average_utilization)\n",
    "\n",
    "DRAM_bandwidth = DRAM_peak_bandwidth * average_utilization\n",
    "\n",
    "# L2 Hit Rate\n",
    "\n",
    "L2_miss_rate = float(find_line(\"L2_total_cache_miss_rate\").strip().split(\"=\")[1])\n",
    "L2_hit_rate = round((1.0 - L2_miss_rate) * 100, 2)"
   ]
  },
  {
   "cell_type": "code",
   "execution_count": 133,
   "id": "48cf4833",
   "metadata": {},
   "outputs": [],
   "source": [
    "# E) FLOP/s ?\n",
    "FLOPs = (MATRIX_SIZE ** 2 * (2 * MATRIX_SIZE)) / execution_time"
   ]
  },
  {
   "cell_type": "code",
   "execution_count": 135,
   "id": "db23e529",
   "metadata": {},
   "outputs": [
    {
     "name": "stdout",
     "output_type": "stream",
     "text": [
      "Cycles        :                 5368\n",
      "Instructions  :               154624\n",
      "IPC           :              28.8048\n",
      "DRAM BW       :           0.17526432 (GB/s)\n",
      "DRAM BW       :           1.40211456 (Gb/s)\n",
      "L2 Hit Rate   :                60.09 %\n",
      "GFLOP/s       :    8.546050670640836\n",
      "Execution time: 0.007668571428571427 (ms)\n"
     ]
    }
   ],
   "source": [
    "print(f\"Cycles        : {clock_cycles:-20}\")\n",
    "print(f\"Instructions  : {instructions:-20}\")\n",
    "print(f\"IPC           : {IPC:-20}\")\n",
    "print(f\"DRAM BW       : {DRAM_bandwidth:-20} (GB/s)\")\n",
    "print(f\"DRAM BW       : {DRAM_bandwidth * 8:-20} (Gb/s)\")\n",
    "print(f\"L2 Hit Rate   : {L2_hit_rate:-20} %\")\n",
    "print(f\"GFLOP/s       : {FLOPs/1e9:20}\")\n",
    "print(f\"Execution time: {execution_time*1000:20} (ms)\")"
   ]
  }
 ],
 "metadata": {
  "kernelspec": {
   "display_name": "Python 3 (ipykernel)",
   "language": "python",
   "name": "python3"
  },
  "language_info": {
   "codemirror_mode": {
    "name": "ipython",
    "version": 3
   },
   "file_extension": ".py",
   "mimetype": "text/x-python",
   "name": "python",
   "nbconvert_exporter": "python",
   "pygments_lexer": "ipython3",
   "version": "3.10.12"
  }
 },
 "nbformat": 4,
 "nbformat_minor": 5
}
